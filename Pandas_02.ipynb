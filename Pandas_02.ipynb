{
  "cells": [
    {
      "cell_type": "markdown",
      "metadata": {
        "id": "view-in-github",
        "colab_type": "text"
      },
      "source": [
        "<a href=\"https://colab.research.google.com/github/Nelrau/pandas/blob/main/Pandas_02.ipynb\" target=\"_parent\"><img src=\"https://colab.research.google.com/assets/colab-badge.svg\" alt=\"Open In Colab\"/></a>"
      ]
    },
    {
      "cell_type": "markdown",
      "metadata": {
        "id": "X3lwTxAqaBOw"
      },
      "source": [
        "# O que é o Pandas e para que serve\n",
        "\n",
        "- Análise de Dados (seja para DataScience, seja para trabalhar de forma integrada com arquivos em Excel e Banco de Dados)\n",
        "- Melhor biblioteca/módulo para trabalhar com quantidades enormes de informações\n",
        "- Uma mistura de listas e dicionários de forma muito eficiente\n",
        "\n",
        "## Resumo\n",
        "\n",
        "Se você trabalha com muitos dados, você vai precisar usar o pandas\n",
        "\n",
        "## Forma de usar"
      ]
    },
    {
      "cell_type": "code",
      "execution_count": null,
      "metadata": {
        "id": "n4DzYmBdaBO-"
      },
      "outputs": [],
      "source": [
        "import pandas as pd"
      ]
    },
    {
      "cell_type": "markdown",
      "metadata": {
        "id": "niA08PIMaBPE"
      },
      "source": [
        "## Vamos aplicar e aprender mais no Projeto de DataScience"
      ]
    }
  ],
  "metadata": {
    "kernelspec": {
      "display_name": "Python 3",
      "language": "python",
      "name": "python3"
    },
    "language_info": {
      "codemirror_mode": {
        "name": "ipython",
        "version": 3
      },
      "file_extension": ".py",
      "mimetype": "text/x-python",
      "name": "python",
      "nbconvert_exporter": "python",
      "pygments_lexer": "ipython3",
      "version": "3.8.3"
    },
    "colab": {
      "provenance": [],
      "include_colab_link": true
    }
  },
  "nbformat": 4,
  "nbformat_minor": 0
}